{
  "cells": [
    {
      "cell_type": "markdown",
      "metadata": {
        "id": "hSA1kgiKvrTG"
      },
      "source": [
        "# Набор данных\n",
        "\n",
        "**Оценка стоимости  и типа трансмиссии по данным продаж автомобилей на вторичном рынке Молдавии**"
      ]
    },
    {
      "cell_type": "markdown",
      "metadata": {
        "id": "9WAiW__nvrTK"
      },
      "source": [
        "Набор данных представляет собой статистику параметров автомобилей на вторичном рынке в Молдавии. \n",
        "\n",
        "Набор включает ряд категориальных и численных значений, составляющих одну запись (строку). Число записей можно найти как число строк.\n",
        "\n",
        "Каждый столбец в записи — это отдельный параметр. \n",
        "\n",
        "Среди указанных параметров приведены целевой для задачи предсказания (регрессии) - цена автомобиля.\n",
        "\n",
        " Также среди параметров есть целевой для задачи классификации - тип трансмиссии. \n",
        " \n",
        " Последняя задача может быть рассмотрена, например, как пример задачи на заполнение пропусков (если продавец не указал соответствующий параметр)."
      ]
    },
    {
      "cell_type": "markdown",
      "metadata": {
        "id": "GjqQDt2hvrTL"
      },
      "source": [
        "# Import библиотек"
      ]
    },
    {
      "cell_type": "markdown",
      "metadata": {
        "id": "EH1Rrqr1YatO"
      },
      "source": [
        "Импортируем библиотеку pandas для удобной обработки и последующего анализа данных."
      ]
    },
    {
      "cell_type": "code",
      "execution_count": 2,
      "metadata": {
        "id": "W1M6Kfo6vrTM"
      },
      "outputs": [],
      "source": [
        "import pandas as pd"
      ]
    },
    {
      "cell_type": "markdown",
      "metadata": {},
      "source": [
        "Pandas — одна из самых популярных библиотек Python для аналитики и работы с Data Science.\n",
        "Это как SQL для Python. Все потому, что pandas позволяет работать с двухмерными таблицами данных в Python.\n"
      ]
    },
    {
      "cell_type": "markdown",
      "metadata": {
        "id": "6KkCjdKUsHIr"
      },
      "source": [
        "# Считываем файл в DataFrame\n",
        "\n"
      ]
    },
    {
      "cell_type": "markdown",
      "metadata": {
        "id": "yy41LWzK2bsP"
      },
      "source": [
        "метод .read_csv(path,delimiter) \n",
        "-------"
      ]
    },
    {
      "cell_type": "markdown",
      "metadata": {
        "id": "v8iAK3ogZJ8E"
      },
      "source": [
        "Нам необходимо передать информацию в удобном виде для интерпретатора пайтона, для этого используется метод read._csv из библиотеки пандас, на входе функция принимает путь к файлу и сепаратор(разделитель)\n",
        "Для загрузки .csv файла с данными в pandas используется функция read_csv().\n",
        "delimiter это разделитель. \n"
      ]
    },
    {
      "cell_type": "code",
      "execution_count": 3,
      "metadata": {
        "id": "aSOyj3trvrTO"
      },
      "outputs": [],
      "source": [
        "df = pd.read_csv('cars_moldova.csv', delimiter = ',')"
      ]
    },
    {
      "cell_type": "markdown",
      "metadata": {
        "id": "VFf-bQxTZohM"
      },
      "source": [
        "Чтобы вывести содержимое файла, достаточно вызвать переменную, в которой записана функция\n",
        "\n",
        "---\n",
        "\n",
        "вся информация которая была в csv файле теперь записана в переменной df, поэтому выводя её мы получаем таблицу"
      ]
    },
    {
      "cell_type": "code",
      "execution_count": 4,
      "metadata": {
        "colab": {
          "base_uri": "https://localhost:8080/",
          "height": 424
        },
        "id": "ZJo0Ey2or2Bu",
        "outputId": "fe7ea736-f4bf-4a66-d186-b937927c8522"
      },
      "outputs": [
        {
          "data": {
            "text/html": [
              "<div>\n",
              "<style scoped>\n",
              "    .dataframe tbody tr th:only-of-type {\n",
              "        vertical-align: middle;\n",
              "    }\n",
              "\n",
              "    .dataframe tbody tr th {\n",
              "        vertical-align: top;\n",
              "    }\n",
              "\n",
              "    .dataframe thead th {\n",
              "        text-align: right;\n",
              "    }\n",
              "</style>\n",
              "<table border=\"1\" class=\"dataframe\">\n",
              "  <thead>\n",
              "    <tr style=\"text-align: right;\">\n",
              "      <th></th>\n",
              "      <th>Make</th>\n",
              "      <th>Model</th>\n",
              "      <th>Year</th>\n",
              "      <th>Style</th>\n",
              "      <th>Distance</th>\n",
              "      <th>Engine_capacity(cm3)</th>\n",
              "      <th>Fuel_type</th>\n",
              "      <th>Transmission</th>\n",
              "      <th>Price(euro)</th>\n",
              "    </tr>\n",
              "  </thead>\n",
              "  <tbody>\n",
              "    <tr>\n",
              "      <th>0</th>\n",
              "      <td>Toyota</td>\n",
              "      <td>Prius</td>\n",
              "      <td>2011</td>\n",
              "      <td>Hatchback</td>\n",
              "      <td>195000.0</td>\n",
              "      <td>1800.0</td>\n",
              "      <td>Hybrid</td>\n",
              "      <td>Automatic</td>\n",
              "      <td>7750.0</td>\n",
              "    </tr>\n",
              "    <tr>\n",
              "      <th>1</th>\n",
              "      <td>Renault</td>\n",
              "      <td>Grand Scenic</td>\n",
              "      <td>2014</td>\n",
              "      <td>Universal</td>\n",
              "      <td>135000.0</td>\n",
              "      <td>1500.0</td>\n",
              "      <td>Diesel</td>\n",
              "      <td>Manual</td>\n",
              "      <td>8550.0</td>\n",
              "    </tr>\n",
              "    <tr>\n",
              "      <th>2</th>\n",
              "      <td>Volkswagen</td>\n",
              "      <td>Golf</td>\n",
              "      <td>1998</td>\n",
              "      <td>Hatchback</td>\n",
              "      <td>1.0</td>\n",
              "      <td>1400.0</td>\n",
              "      <td>Petrol</td>\n",
              "      <td>Manual</td>\n",
              "      <td>2200.0</td>\n",
              "    </tr>\n",
              "    <tr>\n",
              "      <th>3</th>\n",
              "      <td>Renault</td>\n",
              "      <td>Laguna</td>\n",
              "      <td>2012</td>\n",
              "      <td>Universal</td>\n",
              "      <td>110000.0</td>\n",
              "      <td>1500.0</td>\n",
              "      <td>Diesel</td>\n",
              "      <td>Manual</td>\n",
              "      <td>6550.0</td>\n",
              "    </tr>\n",
              "    <tr>\n",
              "      <th>4</th>\n",
              "      <td>Opel</td>\n",
              "      <td>Astra</td>\n",
              "      <td>2006</td>\n",
              "      <td>Universal</td>\n",
              "      <td>200000.0</td>\n",
              "      <td>1600.0</td>\n",
              "      <td>Metan/Propan</td>\n",
              "      <td>Manual</td>\n",
              "      <td>4100.0</td>\n",
              "    </tr>\n",
              "    <tr>\n",
              "      <th>...</th>\n",
              "      <td>...</td>\n",
              "      <td>...</td>\n",
              "      <td>...</td>\n",
              "      <td>...</td>\n",
              "      <td>...</td>\n",
              "      <td>...</td>\n",
              "      <td>...</td>\n",
              "      <td>...</td>\n",
              "      <td>...</td>\n",
              "    </tr>\n",
              "    <tr>\n",
              "      <th>41002</th>\n",
              "      <td>Dacia</td>\n",
              "      <td>Logan Mcv</td>\n",
              "      <td>2015</td>\n",
              "      <td>Universal</td>\n",
              "      <td>89000.0</td>\n",
              "      <td>1500.0</td>\n",
              "      <td>Diesel</td>\n",
              "      <td>Manual</td>\n",
              "      <td>7000.0</td>\n",
              "    </tr>\n",
              "    <tr>\n",
              "      <th>41003</th>\n",
              "      <td>Renault</td>\n",
              "      <td>Modus</td>\n",
              "      <td>2009</td>\n",
              "      <td>Hatchback</td>\n",
              "      <td>225.0</td>\n",
              "      <td>1500.0</td>\n",
              "      <td>Diesel</td>\n",
              "      <td>Manual</td>\n",
              "      <td>4500.0</td>\n",
              "    </tr>\n",
              "    <tr>\n",
              "      <th>41004</th>\n",
              "      <td>Mercedes</td>\n",
              "      <td>E Class</td>\n",
              "      <td>2016</td>\n",
              "      <td>Sedan</td>\n",
              "      <td>50000.0</td>\n",
              "      <td>1950.0</td>\n",
              "      <td>Diesel</td>\n",
              "      <td>Automatic</td>\n",
              "      <td>29500.0</td>\n",
              "    </tr>\n",
              "    <tr>\n",
              "      <th>41005</th>\n",
              "      <td>Mazda</td>\n",
              "      <td>6</td>\n",
              "      <td>2006</td>\n",
              "      <td>Combi</td>\n",
              "      <td>370000.0</td>\n",
              "      <td>2000.0</td>\n",
              "      <td>Diesel</td>\n",
              "      <td>Manual</td>\n",
              "      <td>4000.0</td>\n",
              "    </tr>\n",
              "    <tr>\n",
              "      <th>41006</th>\n",
              "      <td>Renault</td>\n",
              "      <td>Grand Scenic</td>\n",
              "      <td>2006</td>\n",
              "      <td>Minivan</td>\n",
              "      <td>300000.0</td>\n",
              "      <td>1500.0</td>\n",
              "      <td>Diesel</td>\n",
              "      <td>Manual</td>\n",
              "      <td>4000.0</td>\n",
              "    </tr>\n",
              "  </tbody>\n",
              "</table>\n",
              "<p>41007 rows × 9 columns</p>\n",
              "</div>"
            ],
            "text/plain": [
              "             Make         Model  Year      Style  Distance  \\\n",
              "0          Toyota         Prius  2011  Hatchback  195000.0   \n",
              "1         Renault  Grand Scenic  2014  Universal  135000.0   \n",
              "2      Volkswagen          Golf  1998  Hatchback       1.0   \n",
              "3         Renault        Laguna  2012  Universal  110000.0   \n",
              "4            Opel         Astra  2006  Universal  200000.0   \n",
              "...           ...           ...   ...        ...       ...   \n",
              "41002       Dacia     Logan Mcv  2015  Universal   89000.0   \n",
              "41003     Renault         Modus  2009  Hatchback     225.0   \n",
              "41004    Mercedes       E Class  2016      Sedan   50000.0   \n",
              "41005       Mazda             6  2006      Combi  370000.0   \n",
              "41006     Renault  Grand Scenic  2006    Minivan  300000.0   \n",
              "\n",
              "       Engine_capacity(cm3)     Fuel_type Transmission  Price(euro)  \n",
              "0                    1800.0        Hybrid    Automatic       7750.0  \n",
              "1                    1500.0        Diesel       Manual       8550.0  \n",
              "2                    1400.0        Petrol       Manual       2200.0  \n",
              "3                    1500.0        Diesel       Manual       6550.0  \n",
              "4                    1600.0  Metan/Propan       Manual       4100.0  \n",
              "...                     ...           ...          ...          ...  \n",
              "41002                1500.0        Diesel       Manual       7000.0  \n",
              "41003                1500.0        Diesel       Manual       4500.0  \n",
              "41004                1950.0        Diesel    Automatic      29500.0  \n",
              "41005                2000.0        Diesel       Manual       4000.0  \n",
              "41006                1500.0        Diesel       Manual       4000.0  \n",
              "\n",
              "[41007 rows x 9 columns]"
            ]
          },
          "execution_count": 4,
          "metadata": {},
          "output_type": "execute_result"
        }
      ],
      "source": [
        "df"
      ]
    },
    {
      "cell_type": "markdown",
      "metadata": {
        "id": "M5CwtPtIr-P7"
      },
      "source": [
        "# Информация о DataFrame\n"
      ]
    },
    {
      "cell_type": "markdown",
      "metadata": {
        "id": "vIttjv5S2xDi"
      },
      "source": [
        "Метод .info() \n",
        "------"
      ]
    },
    {
      "cell_type": "markdown",
      "metadata": {
        "id": "WUyiS9P0adwq"
      },
      "source": [
        "Метод info() напечатал тип этого объекта, диапазон, столбцы, количество записей в каждом столбце, если столбцы не равны нулю.\n",
        "С помощью данного метода можно посмотреть в каких колоннках сколько не нулевых значений и какого типа данные хранятся в данных колоннках"
      ]
    },
    {
      "cell_type": "code",
      "execution_count": 8,
      "metadata": {
        "colab": {
          "base_uri": "https://localhost:8080/"
        },
        "id": "_88-hF07r50q",
        "outputId": "e741cbcf-0fa4-4830-d756-cd22ae0ae61b"
      },
      "outputs": [
        {
          "name": "stdout",
          "output_type": "stream",
          "text": [
            "<class 'pandas.core.frame.DataFrame'>\n",
            "RangeIndex: 41007 entries, 0 to 41006\n",
            "Data columns (total 9 columns):\n",
            " #   Column                Non-Null Count  Dtype  \n",
            "---  ------                --------------  -----  \n",
            " 0   Make                  41007 non-null  object \n",
            " 1   Model                 41007 non-null  object \n",
            " 2   Year                  41007 non-null  int64  \n",
            " 3   Style                 41007 non-null  object \n",
            " 4   Distance              41007 non-null  float64\n",
            " 5   Engine_capacity(cm3)  41007 non-null  float64\n",
            " 6   Fuel_type             41007 non-null  object \n",
            " 7   Transmission          41007 non-null  object \n",
            " 8   Price(euro)           41007 non-null  float64\n",
            "dtypes: float64(3), int64(1), object(5)\n",
            "memory usage: 2.8+ MB\n"
          ]
        }
      ],
      "source": [
        "df.info()"
      ]
    },
    {
      "cell_type": "markdown",
      "metadata": {
        "id": "tgaRDtivsfT4"
      },
      "source": [
        "# Поиск Дубликатов\n",
        " "
      ]
    },
    {
      "cell_type": "markdown",
      "metadata": {
        "id": "-4_IV2lrdjBO"
      },
      "source": [
        "Метод duplicated()\n",
        "----\n",
        "Необходимо определить, есть ли в используемых вами данных повторяющиеся строки. Чтобы проверить дублирование данных, вы можете использовать функцию duplicated().\n",
        "duplicated() метод находящий уникальные строки на против каждой строки дает булевый параметр отвечающий за то, что это дубликат или нет.\n"
      ]
    },
    {
      "cell_type": "code",
      "execution_count": 9,
      "metadata": {
        "colab": {
          "base_uri": "https://localhost:8080/"
        },
        "id": "mVoh5MR9bE1k",
        "outputId": "6c2f7014-9033-4ef5-a7e1-af8c920ccc89"
      },
      "outputs": [
        {
          "name": "stdout",
          "output_type": "stream",
          "text": [
            "0        False\n",
            "1        False\n",
            "2        False\n",
            "3        False\n",
            "4        False\n",
            "         ...  \n",
            "41002    False\n",
            "41003    False\n",
            "41004     True\n",
            "41005    False\n",
            "41006    False\n",
            "Length: 41007, dtype: bool\n"
          ]
        }
      ],
      "source": [
        "print(df.duplicated())"
      ]
    },
    {
      "cell_type": "markdown",
      "metadata": {},
      "source": [
        "метод .sum()\n",
        "-----\n",
        "метод .sum() позволят нам сумировать полученые даные. А если объеденить с .duplicated() мы получим число дубликатов."
      ]
    },
    {
      "cell_type": "code",
      "execution_count": 10,
      "metadata": {
        "colab": {
          "base_uri": "https://localhost:8080/"
        },
        "id": "55fptij5sgUQ",
        "outputId": "6b01ce20-e096-404f-bb6b-1dba8b173cea"
      },
      "outputs": [
        {
          "data": {
            "text/plain": [
              "3743"
            ]
          },
          "execution_count": 10,
          "metadata": {},
          "output_type": "execute_result"
        }
      ],
      "source": [
        "df.duplicated().sum()"
      ]
    },
    {
      "cell_type": "markdown",
      "metadata": {
        "id": "Nudt51N3tp8B"
      },
      "source": [
        "Удаление дубликатов\n",
        "------\n",
        "\n",
        "Методы .drop_duplicates() и .reset_index()\n",
        "------\n",
        "Метод reset_index() необходим для изменения индексации, так как drop_duplicates() вместе со строками удаляет и их индексы."
      ]
    },
    {
      "cell_type": "markdown",
      "metadata": {
        "id": "M0WDiC5_e4Lc"
      },
      "source": [
        "Удаляем дубликаты и делаем переиндексацию(индексы у нас после удаления дубликатов \"съезжают\" поэтому после удаления дубликатов для удобства чтения необходимо произвести переиндексацию(сброс индексов)"
      ]
    },
    {
      "cell_type": "code",
      "execution_count": 11,
      "metadata": {
        "colab": {
          "base_uri": "https://localhost:8080/",
          "height": 424
        },
        "id": "KdxRhTsbvrTP",
        "outputId": "0a3b91b9-cba4-4b33-b37c-3aa18c588ea2",
        "scrolled": false
      },
      "outputs": [
        {
          "data": {
            "text/html": [
              "<div>\n",
              "<style scoped>\n",
              "    .dataframe tbody tr th:only-of-type {\n",
              "        vertical-align: middle;\n",
              "    }\n",
              "\n",
              "    .dataframe tbody tr th {\n",
              "        vertical-align: top;\n",
              "    }\n",
              "\n",
              "    .dataframe thead th {\n",
              "        text-align: right;\n",
              "    }\n",
              "</style>\n",
              "<table border=\"1\" class=\"dataframe\">\n",
              "  <thead>\n",
              "    <tr style=\"text-align: right;\">\n",
              "      <th></th>\n",
              "      <th>Make</th>\n",
              "      <th>Model</th>\n",
              "      <th>Year</th>\n",
              "      <th>Style</th>\n",
              "      <th>Distance</th>\n",
              "      <th>Engine_capacity(cm3)</th>\n",
              "      <th>Fuel_type</th>\n",
              "      <th>Transmission</th>\n",
              "      <th>Price(euro)</th>\n",
              "    </tr>\n",
              "  </thead>\n",
              "  <tbody>\n",
              "    <tr>\n",
              "      <th>0</th>\n",
              "      <td>Toyota</td>\n",
              "      <td>Prius</td>\n",
              "      <td>2011</td>\n",
              "      <td>Hatchback</td>\n",
              "      <td>195000.0</td>\n",
              "      <td>1800.0</td>\n",
              "      <td>Hybrid</td>\n",
              "      <td>Automatic</td>\n",
              "      <td>7750.0</td>\n",
              "    </tr>\n",
              "    <tr>\n",
              "      <th>1</th>\n",
              "      <td>Renault</td>\n",
              "      <td>Grand Scenic</td>\n",
              "      <td>2014</td>\n",
              "      <td>Universal</td>\n",
              "      <td>135000.0</td>\n",
              "      <td>1500.0</td>\n",
              "      <td>Diesel</td>\n",
              "      <td>Manual</td>\n",
              "      <td>8550.0</td>\n",
              "    </tr>\n",
              "    <tr>\n",
              "      <th>2</th>\n",
              "      <td>Volkswagen</td>\n",
              "      <td>Golf</td>\n",
              "      <td>1998</td>\n",
              "      <td>Hatchback</td>\n",
              "      <td>1.0</td>\n",
              "      <td>1400.0</td>\n",
              "      <td>Petrol</td>\n",
              "      <td>Manual</td>\n",
              "      <td>2200.0</td>\n",
              "    </tr>\n",
              "    <tr>\n",
              "      <th>3</th>\n",
              "      <td>Renault</td>\n",
              "      <td>Laguna</td>\n",
              "      <td>2012</td>\n",
              "      <td>Universal</td>\n",
              "      <td>110000.0</td>\n",
              "      <td>1500.0</td>\n",
              "      <td>Diesel</td>\n",
              "      <td>Manual</td>\n",
              "      <td>6550.0</td>\n",
              "    </tr>\n",
              "    <tr>\n",
              "      <th>4</th>\n",
              "      <td>Opel</td>\n",
              "      <td>Astra</td>\n",
              "      <td>2006</td>\n",
              "      <td>Universal</td>\n",
              "      <td>200000.0</td>\n",
              "      <td>1600.0</td>\n",
              "      <td>Metan/Propan</td>\n",
              "      <td>Manual</td>\n",
              "      <td>4100.0</td>\n",
              "    </tr>\n",
              "    <tr>\n",
              "      <th>...</th>\n",
              "      <td>...</td>\n",
              "      <td>...</td>\n",
              "      <td>...</td>\n",
              "      <td>...</td>\n",
              "      <td>...</td>\n",
              "      <td>...</td>\n",
              "      <td>...</td>\n",
              "      <td>...</td>\n",
              "      <td>...</td>\n",
              "    </tr>\n",
              "    <tr>\n",
              "      <th>37259</th>\n",
              "      <td>Land Rover</td>\n",
              "      <td>Freelander</td>\n",
              "      <td>2002</td>\n",
              "      <td>Crossover</td>\n",
              "      <td>225000.0</td>\n",
              "      <td>1800.0</td>\n",
              "      <td>Metan/Propan</td>\n",
              "      <td>Manual</td>\n",
              "      <td>4400.0</td>\n",
              "    </tr>\n",
              "    <tr>\n",
              "      <th>37260</th>\n",
              "      <td>Dacia</td>\n",
              "      <td>Logan Mcv</td>\n",
              "      <td>2015</td>\n",
              "      <td>Universal</td>\n",
              "      <td>89000.0</td>\n",
              "      <td>1500.0</td>\n",
              "      <td>Diesel</td>\n",
              "      <td>Manual</td>\n",
              "      <td>7000.0</td>\n",
              "    </tr>\n",
              "    <tr>\n",
              "      <th>37261</th>\n",
              "      <td>Renault</td>\n",
              "      <td>Modus</td>\n",
              "      <td>2009</td>\n",
              "      <td>Hatchback</td>\n",
              "      <td>225.0</td>\n",
              "      <td>1500.0</td>\n",
              "      <td>Diesel</td>\n",
              "      <td>Manual</td>\n",
              "      <td>4500.0</td>\n",
              "    </tr>\n",
              "    <tr>\n",
              "      <th>37262</th>\n",
              "      <td>Mazda</td>\n",
              "      <td>6</td>\n",
              "      <td>2006</td>\n",
              "      <td>Combi</td>\n",
              "      <td>370000.0</td>\n",
              "      <td>2000.0</td>\n",
              "      <td>Diesel</td>\n",
              "      <td>Manual</td>\n",
              "      <td>4000.0</td>\n",
              "    </tr>\n",
              "    <tr>\n",
              "      <th>37263</th>\n",
              "      <td>Renault</td>\n",
              "      <td>Grand Scenic</td>\n",
              "      <td>2006</td>\n",
              "      <td>Minivan</td>\n",
              "      <td>300000.0</td>\n",
              "      <td>1500.0</td>\n",
              "      <td>Diesel</td>\n",
              "      <td>Manual</td>\n",
              "      <td>4000.0</td>\n",
              "    </tr>\n",
              "  </tbody>\n",
              "</table>\n",
              "<p>37264 rows × 9 columns</p>\n",
              "</div>"
            ],
            "text/plain": [
              "             Make         Model  Year      Style  Distance  \\\n",
              "0          Toyota         Prius  2011  Hatchback  195000.0   \n",
              "1         Renault  Grand Scenic  2014  Universal  135000.0   \n",
              "2      Volkswagen          Golf  1998  Hatchback       1.0   \n",
              "3         Renault        Laguna  2012  Universal  110000.0   \n",
              "4            Opel         Astra  2006  Universal  200000.0   \n",
              "...           ...           ...   ...        ...       ...   \n",
              "37259  Land Rover    Freelander  2002  Crossover  225000.0   \n",
              "37260       Dacia     Logan Mcv  2015  Universal   89000.0   \n",
              "37261     Renault         Modus  2009  Hatchback     225.0   \n",
              "37262       Mazda             6  2006      Combi  370000.0   \n",
              "37263     Renault  Grand Scenic  2006    Minivan  300000.0   \n",
              "\n",
              "       Engine_capacity(cm3)     Fuel_type Transmission  Price(euro)  \n",
              "0                    1800.0        Hybrid    Automatic       7750.0  \n",
              "1                    1500.0        Diesel       Manual       8550.0  \n",
              "2                    1400.0        Petrol       Manual       2200.0  \n",
              "3                    1500.0        Diesel       Manual       6550.0  \n",
              "4                    1600.0  Metan/Propan       Manual       4100.0  \n",
              "...                     ...           ...          ...          ...  \n",
              "37259                1800.0  Metan/Propan       Manual       4400.0  \n",
              "37260                1500.0        Diesel       Manual       7000.0  \n",
              "37261                1500.0        Diesel       Manual       4500.0  \n",
              "37262                2000.0        Diesel       Manual       4000.0  \n",
              "37263                1500.0        Diesel       Manual       4000.0  \n",
              "\n",
              "[37264 rows x 9 columns]"
            ]
          },
          "execution_count": 11,
          "metadata": {},
          "output_type": "execute_result"
        }
      ],
      "source": [
        "df = df.drop_duplicates()\n",
        "\n",
        "df = df.reset_index(drop=True)\n",
        "\n",
        "df"
      ]
    },
    {
      "cell_type": "markdown",
      "metadata": {
        "id": "wmxKqd9n29AG"
      },
      "source": [
        "# Индексация"
      ]
    },
    {
      "cell_type": "markdown",
      "metadata": {
        "id": "xqmW4k4VvQlB"
      },
      "source": [
        "Визуализация части DataFrame\n",
        "--------\n",
        "Метод .head()\n",
        "--------\n",
        "Метод Pandas head ()используется для возврата первых n (по умолчанию 5) строк фрейма данных или серии.\n",
        "Метод .head(n) - первые n строк"
      ]
    },
    {
      "cell_type": "code",
      "execution_count": 12,
      "metadata": {
        "colab": {
          "base_uri": "https://localhost:8080/",
          "height": 237
        },
        "id": "Qquz6I2huO0Y",
        "outputId": "66effd68-ad3b-43b0-f455-ef94374e7035"
      },
      "outputs": [
        {
          "data": {
            "text/html": [
              "<div>\n",
              "<style scoped>\n",
              "    .dataframe tbody tr th:only-of-type {\n",
              "        vertical-align: middle;\n",
              "    }\n",
              "\n",
              "    .dataframe tbody tr th {\n",
              "        vertical-align: top;\n",
              "    }\n",
              "\n",
              "    .dataframe thead th {\n",
              "        text-align: right;\n",
              "    }\n",
              "</style>\n",
              "<table border=\"1\" class=\"dataframe\">\n",
              "  <thead>\n",
              "    <tr style=\"text-align: right;\">\n",
              "      <th></th>\n",
              "      <th>Make</th>\n",
              "      <th>Model</th>\n",
              "      <th>Year</th>\n",
              "      <th>Style</th>\n",
              "      <th>Distance</th>\n",
              "      <th>Engine_capacity(cm3)</th>\n",
              "      <th>Fuel_type</th>\n",
              "      <th>Transmission</th>\n",
              "      <th>Price(euro)</th>\n",
              "    </tr>\n",
              "  </thead>\n",
              "  <tbody>\n",
              "    <tr>\n",
              "      <th>0</th>\n",
              "      <td>Toyota</td>\n",
              "      <td>Prius</td>\n",
              "      <td>2011</td>\n",
              "      <td>Hatchback</td>\n",
              "      <td>195000.0</td>\n",
              "      <td>1800.0</td>\n",
              "      <td>Hybrid</td>\n",
              "      <td>Automatic</td>\n",
              "      <td>7750.0</td>\n",
              "    </tr>\n",
              "    <tr>\n",
              "      <th>1</th>\n",
              "      <td>Renault</td>\n",
              "      <td>Grand Scenic</td>\n",
              "      <td>2014</td>\n",
              "      <td>Universal</td>\n",
              "      <td>135000.0</td>\n",
              "      <td>1500.0</td>\n",
              "      <td>Diesel</td>\n",
              "      <td>Manual</td>\n",
              "      <td>8550.0</td>\n",
              "    </tr>\n",
              "    <tr>\n",
              "      <th>2</th>\n",
              "      <td>Volkswagen</td>\n",
              "      <td>Golf</td>\n",
              "      <td>1998</td>\n",
              "      <td>Hatchback</td>\n",
              "      <td>1.0</td>\n",
              "      <td>1400.0</td>\n",
              "      <td>Petrol</td>\n",
              "      <td>Manual</td>\n",
              "      <td>2200.0</td>\n",
              "    </tr>\n",
              "    <tr>\n",
              "      <th>3</th>\n",
              "      <td>Renault</td>\n",
              "      <td>Laguna</td>\n",
              "      <td>2012</td>\n",
              "      <td>Universal</td>\n",
              "      <td>110000.0</td>\n",
              "      <td>1500.0</td>\n",
              "      <td>Diesel</td>\n",
              "      <td>Manual</td>\n",
              "      <td>6550.0</td>\n",
              "    </tr>\n",
              "    <tr>\n",
              "      <th>4</th>\n",
              "      <td>Opel</td>\n",
              "      <td>Astra</td>\n",
              "      <td>2006</td>\n",
              "      <td>Universal</td>\n",
              "      <td>200000.0</td>\n",
              "      <td>1600.0</td>\n",
              "      <td>Metan/Propan</td>\n",
              "      <td>Manual</td>\n",
              "      <td>4100.0</td>\n",
              "    </tr>\n",
              "    <tr>\n",
              "      <th>5</th>\n",
              "      <td>Mercedes</td>\n",
              "      <td>Vito</td>\n",
              "      <td>2000</td>\n",
              "      <td>Microvan</td>\n",
              "      <td>300000.0</td>\n",
              "      <td>2200.0</td>\n",
              "      <td>Diesel</td>\n",
              "      <td>Manual</td>\n",
              "      <td>3490.0</td>\n",
              "    </tr>\n",
              "  </tbody>\n",
              "</table>\n",
              "</div>"
            ],
            "text/plain": [
              "         Make         Model  Year      Style  Distance  Engine_capacity(cm3)  \\\n",
              "0      Toyota         Prius  2011  Hatchback  195000.0                1800.0   \n",
              "1     Renault  Grand Scenic  2014  Universal  135000.0                1500.0   \n",
              "2  Volkswagen          Golf  1998  Hatchback       1.0                1400.0   \n",
              "3     Renault        Laguna  2012  Universal  110000.0                1500.0   \n",
              "4        Opel         Astra  2006  Universal  200000.0                1600.0   \n",
              "5    Mercedes          Vito  2000   Microvan  300000.0                2200.0   \n",
              "\n",
              "      Fuel_type Transmission  Price(euro)  \n",
              "0        Hybrid    Automatic       7750.0  \n",
              "1        Diesel       Manual       8550.0  \n",
              "2        Petrol       Manual       2200.0  \n",
              "3        Diesel       Manual       6550.0  \n",
              "4  Metan/Propan       Manual       4100.0  \n",
              "5        Diesel       Manual       3490.0  "
            ]
          },
          "execution_count": 12,
          "metadata": {},
          "output_type": "execute_result"
        }
      ],
      "source": [
        "df.head(6)"
      ]
    },
    {
      "cell_type": "markdown",
      "metadata": {
        "id": "ZCiYJU_ivjUP"
      },
      "source": [
        "Метод .tail() \n",
        "----------\n",
        "используется для возврата последних n строк фрейма данных или серии.\n",
        "Метод .tail(n) - последние n строк"
      ]
    },
    {
      "cell_type": "code",
      "execution_count": 13,
      "metadata": {
        "colab": {
          "base_uri": "https://localhost:8080/",
          "height": 332
        },
        "id": "8i-lc4MeuQfF",
        "outputId": "f57557d3-e91a-4ae5-b91f-fecd72399195"
      },
      "outputs": [
        {
          "data": {
            "text/html": [
              "<div>\n",
              "<style scoped>\n",
              "    .dataframe tbody tr th:only-of-type {\n",
              "        vertical-align: middle;\n",
              "    }\n",
              "\n",
              "    .dataframe tbody tr th {\n",
              "        vertical-align: top;\n",
              "    }\n",
              "\n",
              "    .dataframe thead th {\n",
              "        text-align: right;\n",
              "    }\n",
              "</style>\n",
              "<table border=\"1\" class=\"dataframe\">\n",
              "  <thead>\n",
              "    <tr style=\"text-align: right;\">\n",
              "      <th></th>\n",
              "      <th>Make</th>\n",
              "      <th>Model</th>\n",
              "      <th>Year</th>\n",
              "      <th>Style</th>\n",
              "      <th>Distance</th>\n",
              "      <th>Engine_capacity(cm3)</th>\n",
              "      <th>Fuel_type</th>\n",
              "      <th>Transmission</th>\n",
              "      <th>Price(euro)</th>\n",
              "    </tr>\n",
              "  </thead>\n",
              "  <tbody>\n",
              "    <tr>\n",
              "      <th>37255</th>\n",
              "      <td>Renault</td>\n",
              "      <td>Megane</td>\n",
              "      <td>2011</td>\n",
              "      <td>Sedan</td>\n",
              "      <td>145000.0</td>\n",
              "      <td>1500.0</td>\n",
              "      <td>Diesel</td>\n",
              "      <td>Automatic</td>\n",
              "      <td>6200.0</td>\n",
              "    </tr>\n",
              "    <tr>\n",
              "      <th>37256</th>\n",
              "      <td>Toyota</td>\n",
              "      <td>Auris</td>\n",
              "      <td>2007</td>\n",
              "      <td>Hatchback</td>\n",
              "      <td>222111.0</td>\n",
              "      <td>1400.0</td>\n",
              "      <td>Diesel</td>\n",
              "      <td>Automatic</td>\n",
              "      <td>4444.0</td>\n",
              "    </tr>\n",
              "    <tr>\n",
              "      <th>37257</th>\n",
              "      <td>Skoda</td>\n",
              "      <td>Superb</td>\n",
              "      <td>2016</td>\n",
              "      <td>Cabriolet</td>\n",
              "      <td>78900.0</td>\n",
              "      <td>2000.0</td>\n",
              "      <td>Petrol</td>\n",
              "      <td>Automatic</td>\n",
              "      <td>21000.0</td>\n",
              "    </tr>\n",
              "    <tr>\n",
              "      <th>37258</th>\n",
              "      <td>Volkswagen</td>\n",
              "      <td>Passat</td>\n",
              "      <td>2016</td>\n",
              "      <td>Sedan</td>\n",
              "      <td>88000.0</td>\n",
              "      <td>1800.0</td>\n",
              "      <td>Petrol</td>\n",
              "      <td>Automatic</td>\n",
              "      <td>11500.0</td>\n",
              "    </tr>\n",
              "    <tr>\n",
              "      <th>37259</th>\n",
              "      <td>Land Rover</td>\n",
              "      <td>Freelander</td>\n",
              "      <td>2002</td>\n",
              "      <td>Crossover</td>\n",
              "      <td>225000.0</td>\n",
              "      <td>1800.0</td>\n",
              "      <td>Metan/Propan</td>\n",
              "      <td>Manual</td>\n",
              "      <td>4400.0</td>\n",
              "    </tr>\n",
              "    <tr>\n",
              "      <th>37260</th>\n",
              "      <td>Dacia</td>\n",
              "      <td>Logan Mcv</td>\n",
              "      <td>2015</td>\n",
              "      <td>Universal</td>\n",
              "      <td>89000.0</td>\n",
              "      <td>1500.0</td>\n",
              "      <td>Diesel</td>\n",
              "      <td>Manual</td>\n",
              "      <td>7000.0</td>\n",
              "    </tr>\n",
              "    <tr>\n",
              "      <th>37261</th>\n",
              "      <td>Renault</td>\n",
              "      <td>Modus</td>\n",
              "      <td>2009</td>\n",
              "      <td>Hatchback</td>\n",
              "      <td>225.0</td>\n",
              "      <td>1500.0</td>\n",
              "      <td>Diesel</td>\n",
              "      <td>Manual</td>\n",
              "      <td>4500.0</td>\n",
              "    </tr>\n",
              "    <tr>\n",
              "      <th>37262</th>\n",
              "      <td>Mazda</td>\n",
              "      <td>6</td>\n",
              "      <td>2006</td>\n",
              "      <td>Combi</td>\n",
              "      <td>370000.0</td>\n",
              "      <td>2000.0</td>\n",
              "      <td>Diesel</td>\n",
              "      <td>Manual</td>\n",
              "      <td>4000.0</td>\n",
              "    </tr>\n",
              "    <tr>\n",
              "      <th>37263</th>\n",
              "      <td>Renault</td>\n",
              "      <td>Grand Scenic</td>\n",
              "      <td>2006</td>\n",
              "      <td>Minivan</td>\n",
              "      <td>300000.0</td>\n",
              "      <td>1500.0</td>\n",
              "      <td>Diesel</td>\n",
              "      <td>Manual</td>\n",
              "      <td>4000.0</td>\n",
              "    </tr>\n",
              "  </tbody>\n",
              "</table>\n",
              "</div>"
            ],
            "text/plain": [
              "             Make         Model  Year      Style  Distance  \\\n",
              "37255     Renault        Megane  2011      Sedan  145000.0   \n",
              "37256      Toyota         Auris  2007  Hatchback  222111.0   \n",
              "37257       Skoda        Superb  2016  Cabriolet   78900.0   \n",
              "37258  Volkswagen        Passat  2016      Sedan   88000.0   \n",
              "37259  Land Rover    Freelander  2002  Crossover  225000.0   \n",
              "37260       Dacia     Logan Mcv  2015  Universal   89000.0   \n",
              "37261     Renault         Modus  2009  Hatchback     225.0   \n",
              "37262       Mazda             6  2006      Combi  370000.0   \n",
              "37263     Renault  Grand Scenic  2006    Minivan  300000.0   \n",
              "\n",
              "       Engine_capacity(cm3)     Fuel_type Transmission  Price(euro)  \n",
              "37255                1500.0        Diesel    Automatic       6200.0  \n",
              "37256                1400.0        Diesel    Automatic       4444.0  \n",
              "37257                2000.0        Petrol    Automatic      21000.0  \n",
              "37258                1800.0        Petrol    Automatic      11500.0  \n",
              "37259                1800.0  Metan/Propan       Manual       4400.0  \n",
              "37260                1500.0        Diesel       Manual       7000.0  \n",
              "37261                1500.0        Diesel       Manual       4500.0  \n",
              "37262                2000.0        Diesel       Manual       4000.0  \n",
              "37263                1500.0        Diesel       Manual       4000.0  "
            ]
          },
          "execution_count": 13,
          "metadata": {},
          "output_type": "execute_result"
        }
      ],
      "source": [
        "df.tail(9)"
      ]
    },
    {
      "cell_type": "markdown",
      "metadata": {
        "id": "Ds7wJvZJwKzR"
      },
      "source": [
        "Индексация\n",
        "----------\n",
        "Функция .loc []\n",
        "--------\n",
        "Функция .loc [строка, столбец] позволяет нам получить доступ к группе строк и столбцов.\n",
        "Аттрибут .loc[строки, столбцы]  похож на срезы, но только табличный знак двоеточия говорит о том с какого по какой индекс(колонку)"
      ]
    },
    {
      "cell_type": "code",
      "execution_count": 14,
      "metadata": {
        "colab": {
          "base_uri": "https://localhost:8080/",
          "height": 36
        },
        "id": "PH4dsUSfwC4I",
        "outputId": "0bef689b-5e8c-46b6-b5cb-d38d8d022d05"
      },
      "outputs": [
        {
          "data": {
            "text/plain": [
              "'Automatic'"
            ]
          },
          "execution_count": 14,
          "metadata": {},
          "output_type": "execute_result"
        }
      ],
      "source": [
        "df.loc[1437,'Transmission']"
      ]
    },
    {
      "cell_type": "markdown",
      "metadata": {
        "id": "YW1rXLrUve-2"
      },
      "source": [
        "Двоеточие показывает границу отбора, например, в следующем примере мы отобрали строки со второй по сотую:"
      ]
    },
    {
      "cell_type": "code",
      "execution_count": 15,
      "metadata": {
        "colab": {
          "base_uri": "https://localhost:8080/"
        },
        "id": "6RXr_Rf7vkF8",
        "outputId": "c59cd686-a07f-4cff-996e-3819aad8e931"
      },
      "outputs": [
        {
          "data": {
            "text/plain": [
              "2         Manual\n",
              "3         Manual\n",
              "4         Manual\n",
              "5         Manual\n",
              "6         Manual\n",
              "         ...    \n",
              "96     Automatic\n",
              "97        Manual\n",
              "98     Automatic\n",
              "99     Automatic\n",
              "100       Manual\n",
              "Name: Transmission, Length: 99, dtype: object"
            ]
          },
          "execution_count": 15,
          "metadata": {},
          "output_type": "execute_result"
        }
      ],
      "source": [
        "df.loc[2:100,'Transmission']"
      ]
    },
    {
      "cell_type": "markdown",
      "metadata": {
        "id": "sDFUpORLtM9r"
      },
      "source": [
        "Ниже с помощью функции .loc[:,'Transmission'] отобраны все строки, имеющие столбец Transmission\n",
        " "
      ]
    },
    {
      "cell_type": "code",
      "execution_count": 16,
      "metadata": {
        "colab": {
          "base_uri": "https://localhost:8080/"
        },
        "id": "aQj_Ih7Vyd3u",
        "outputId": "b3031a47-ba4f-45e5-8bc3-1213a9ffcdf9"
      },
      "outputs": [
        {
          "data": {
            "text/plain": [
              "0        Automatic\n",
              "1           Manual\n",
              "2           Manual\n",
              "3           Manual\n",
              "4           Manual\n",
              "           ...    \n",
              "37259       Manual\n",
              "37260       Manual\n",
              "37261       Manual\n",
              "37262       Manual\n",
              "37263       Manual\n",
              "Name: Transmission, Length: 37264, dtype: object"
            ]
          },
          "execution_count": 16,
          "metadata": {},
          "output_type": "execute_result"
        }
      ],
      "source": [
        "df.loc[:,'Transmission']"
      ]
    },
    {
      "cell_type": "markdown",
      "metadata": {
        "id": "VInxCOdZtjt5"
      },
      "source": [
        "Вспомним функцию .head и выведем первые пять строк столбца Transmission"
      ]
    },
    {
      "cell_type": "code",
      "execution_count": 17,
      "metadata": {
        "colab": {
          "base_uri": "https://localhost:8080/",
          "height": 206
        },
        "id": "vPolzn_uwh33",
        "outputId": "64de8ae9-92cd-4e2b-b6fd-84f8b89be338"
      },
      "outputs": [
        {
          "data": {
            "text/html": [
              "<div>\n",
              "<style scoped>\n",
              "    .dataframe tbody tr th:only-of-type {\n",
              "        vertical-align: middle;\n",
              "    }\n",
              "\n",
              "    .dataframe tbody tr th {\n",
              "        vertical-align: top;\n",
              "    }\n",
              "\n",
              "    .dataframe thead th {\n",
              "        text-align: right;\n",
              "    }\n",
              "</style>\n",
              "<table border=\"1\" class=\"dataframe\">\n",
              "  <thead>\n",
              "    <tr style=\"text-align: right;\">\n",
              "      <th></th>\n",
              "      <th>Transmission</th>\n",
              "    </tr>\n",
              "  </thead>\n",
              "  <tbody>\n",
              "    <tr>\n",
              "      <th>0</th>\n",
              "      <td>Automatic</td>\n",
              "    </tr>\n",
              "    <tr>\n",
              "      <th>1</th>\n",
              "      <td>Manual</td>\n",
              "    </tr>\n",
              "    <tr>\n",
              "      <th>2</th>\n",
              "      <td>Manual</td>\n",
              "    </tr>\n",
              "    <tr>\n",
              "      <th>3</th>\n",
              "      <td>Manual</td>\n",
              "    </tr>\n",
              "    <tr>\n",
              "      <th>4</th>\n",
              "      <td>Manual</td>\n",
              "    </tr>\n",
              "  </tbody>\n",
              "</table>\n",
              "</div>"
            ],
            "text/plain": [
              "  Transmission\n",
              "0    Automatic\n",
              "1       Manual\n",
              "2       Manual\n",
              "3       Manual\n",
              "4       Manual"
            ]
          },
          "execution_count": 17,
          "metadata": {},
          "output_type": "execute_result"
        }
      ],
      "source": [
        "df.loc[:,['Transmission']].head(5)"
      ]
    },
    {
      "cell_type": "markdown",
      "metadata": {
        "id": "YzVdC2oLuJN9"
      },
      "source": [
        "В следующем примере выведем первые пять строк, включающие столбцы Transmission и Year"
      ]
    },
    {
      "cell_type": "code",
      "execution_count": 18,
      "metadata": {
        "colab": {
          "base_uri": "https://localhost:8080/",
          "height": 206
        },
        "id": "UNtx8abvwC00",
        "outputId": "1b24aa0a-715a-4507-8aba-50be30aa740a"
      },
      "outputs": [
        {
          "data": {
            "text/html": [
              "<div>\n",
              "<style scoped>\n",
              "    .dataframe tbody tr th:only-of-type {\n",
              "        vertical-align: middle;\n",
              "    }\n",
              "\n",
              "    .dataframe tbody tr th {\n",
              "        vertical-align: top;\n",
              "    }\n",
              "\n",
              "    .dataframe thead th {\n",
              "        text-align: right;\n",
              "    }\n",
              "</style>\n",
              "<table border=\"1\" class=\"dataframe\">\n",
              "  <thead>\n",
              "    <tr style=\"text-align: right;\">\n",
              "      <th></th>\n",
              "      <th>Transmission</th>\n",
              "      <th>Year</th>\n",
              "    </tr>\n",
              "  </thead>\n",
              "  <tbody>\n",
              "    <tr>\n",
              "      <th>0</th>\n",
              "      <td>Automatic</td>\n",
              "      <td>2011</td>\n",
              "    </tr>\n",
              "    <tr>\n",
              "      <th>1</th>\n",
              "      <td>Manual</td>\n",
              "      <td>2014</td>\n",
              "    </tr>\n",
              "    <tr>\n",
              "      <th>2</th>\n",
              "      <td>Manual</td>\n",
              "      <td>1998</td>\n",
              "    </tr>\n",
              "    <tr>\n",
              "      <th>3</th>\n",
              "      <td>Manual</td>\n",
              "      <td>2012</td>\n",
              "    </tr>\n",
              "    <tr>\n",
              "      <th>4</th>\n",
              "      <td>Manual</td>\n",
              "      <td>2006</td>\n",
              "    </tr>\n",
              "  </tbody>\n",
              "</table>\n",
              "</div>"
            ],
            "text/plain": [
              "  Transmission  Year\n",
              "0    Automatic  2011\n",
              "1       Manual  2014\n",
              "2       Manual  1998\n",
              "3       Manual  2012\n",
              "4       Manual  2006"
            ]
          },
          "execution_count": 18,
          "metadata": {},
          "output_type": "execute_result"
        }
      ],
      "source": [
        "df.loc[:,['Transmission','Year']].head(5)"
      ]
    },
    {
      "cell_type": "markdown",
      "metadata": {
        "id": "hEtyGAOZurZ8"
      },
      "source": [
        "Таким образом, можно выбирать необходимые строки и столбцы, указывать с какой строки выводить данные и так далее. "
      ]
    },
    {
      "cell_type": "code",
      "execution_count": 19,
      "metadata": {
        "colab": {
          "base_uri": "https://localhost:8080/",
          "height": 206
        },
        "id": "b0ywiqzQwCwu",
        "outputId": "6fa7f7b6-1f33-4c09-f933-0335af79d5a1"
      },
      "outputs": [
        {
          "data": {
            "text/html": [
              "<div>\n",
              "<style scoped>\n",
              "    .dataframe tbody tr th:only-of-type {\n",
              "        vertical-align: middle;\n",
              "    }\n",
              "\n",
              "    .dataframe tbody tr th {\n",
              "        vertical-align: top;\n",
              "    }\n",
              "\n",
              "    .dataframe thead th {\n",
              "        text-align: right;\n",
              "    }\n",
              "</style>\n",
              "<table border=\"1\" class=\"dataframe\">\n",
              "  <thead>\n",
              "    <tr style=\"text-align: right;\">\n",
              "      <th></th>\n",
              "      <th>Make</th>\n",
              "      <th>Model</th>\n",
              "      <th>Year</th>\n",
              "      <th>Style</th>\n",
              "    </tr>\n",
              "  </thead>\n",
              "  <tbody>\n",
              "    <tr>\n",
              "      <th>2</th>\n",
              "      <td>Volkswagen</td>\n",
              "      <td>Golf</td>\n",
              "      <td>1998</td>\n",
              "      <td>Hatchback</td>\n",
              "    </tr>\n",
              "    <tr>\n",
              "      <th>3</th>\n",
              "      <td>Renault</td>\n",
              "      <td>Laguna</td>\n",
              "      <td>2012</td>\n",
              "      <td>Universal</td>\n",
              "    </tr>\n",
              "    <tr>\n",
              "      <th>4</th>\n",
              "      <td>Opel</td>\n",
              "      <td>Astra</td>\n",
              "      <td>2006</td>\n",
              "      <td>Universal</td>\n",
              "    </tr>\n",
              "    <tr>\n",
              "      <th>5</th>\n",
              "      <td>Mercedes</td>\n",
              "      <td>Vito</td>\n",
              "      <td>2000</td>\n",
              "      <td>Microvan</td>\n",
              "    </tr>\n",
              "    <tr>\n",
              "      <th>6</th>\n",
              "      <td>Volkswagen</td>\n",
              "      <td>Passat</td>\n",
              "      <td>2010</td>\n",
              "      <td>Universal</td>\n",
              "    </tr>\n",
              "  </tbody>\n",
              "</table>\n",
              "</div>"
            ],
            "text/plain": [
              "         Make   Model  Year      Style\n",
              "2  Volkswagen    Golf  1998  Hatchback\n",
              "3     Renault  Laguna  2012  Universal\n",
              "4        Opel   Astra  2006  Universal\n",
              "5    Mercedes    Vito  2000   Microvan\n",
              "6  Volkswagen  Passat  2010  Universal"
            ]
          },
          "execution_count": 19,
          "metadata": {},
          "output_type": "execute_result"
        }
      ],
      "source": [
        "df.loc[2:,'Make':'Style'].head(5)"
      ]
    },
    {
      "cell_type": "markdown",
      "metadata": {
        "id": "IvyA5z_4wZtm"
      },
      "source": [
        "Далее в примере продемонстрируем возможность вывода одной строки и всех столбцов, например, выведем 69 строку и все столбцы, получим следующий результат:"
      ]
    },
    {
      "cell_type": "code",
      "execution_count": 20,
      "metadata": {
        "colab": {
          "base_uri": "https://localhost:8080/"
        },
        "id": "BlQRVsReyl1W",
        "outputId": "b31faeb2-b5dc-49fd-87e5-f08f43bf8f7f"
      },
      "outputs": [
        {
          "data": {
            "text/plain": [
              "Make                        Honda\n",
              "Model                        CR-V\n",
              "Year                         2002\n",
              "Style                   Universal\n",
              "Distance                 275100.0\n",
              "Engine_capacity(cm3)       2000.0\n",
              "Fuel_type                  Petrol\n",
              "Transmission               Manual\n",
              "Price(euro)                5900.0\n",
              "Name: 69, dtype: object"
            ]
          },
          "execution_count": 20,
          "metadata": {},
          "output_type": "execute_result"
        }
      ],
      "source": [
        "df.loc[69,:]"
      ]
    },
    {
      "cell_type": "markdown",
      "metadata": {
        "id": "Ihr5l_q5xFYW"
      },
      "source": [
        "Одну строку можно вывести списком, как показано в примере выше, так и в табличном виде, написал следующий код:"
      ]
    },
    {
      "cell_type": "code",
      "execution_count": 21,
      "metadata": {
        "colab": {
          "base_uri": "https://localhost:8080/",
          "height": 81
        },
        "id": "3NlCQ4u5w9LQ",
        "outputId": "76ccda08-c6ba-4940-bf2e-9fe7b1243953"
      },
      "outputs": [
        {
          "data": {
            "text/html": [
              "<div>\n",
              "<style scoped>\n",
              "    .dataframe tbody tr th:only-of-type {\n",
              "        vertical-align: middle;\n",
              "    }\n",
              "\n",
              "    .dataframe tbody tr th {\n",
              "        vertical-align: top;\n",
              "    }\n",
              "\n",
              "    .dataframe thead th {\n",
              "        text-align: right;\n",
              "    }\n",
              "</style>\n",
              "<table border=\"1\" class=\"dataframe\">\n",
              "  <thead>\n",
              "    <tr style=\"text-align: right;\">\n",
              "      <th></th>\n",
              "      <th>Make</th>\n",
              "      <th>Model</th>\n",
              "      <th>Year</th>\n",
              "      <th>Style</th>\n",
              "      <th>Distance</th>\n",
              "      <th>Engine_capacity(cm3)</th>\n",
              "      <th>Fuel_type</th>\n",
              "      <th>Transmission</th>\n",
              "      <th>Price(euro)</th>\n",
              "    </tr>\n",
              "  </thead>\n",
              "  <tbody>\n",
              "    <tr>\n",
              "      <th>69</th>\n",
              "      <td>Honda</td>\n",
              "      <td>CR-V</td>\n",
              "      <td>2002</td>\n",
              "      <td>Universal</td>\n",
              "      <td>275100.0</td>\n",
              "      <td>2000.0</td>\n",
              "      <td>Petrol</td>\n",
              "      <td>Manual</td>\n",
              "      <td>5900.0</td>\n",
              "    </tr>\n",
              "  </tbody>\n",
              "</table>\n",
              "</div>"
            ],
            "text/plain": [
              "     Make Model  Year      Style  Distance  Engine_capacity(cm3) Fuel_type  \\\n",
              "69  Honda  CR-V  2002  Universal  275100.0                2000.0    Petrol   \n",
              "\n",
              "   Transmission  Price(euro)  \n",
              "69       Manual       5900.0  "
            ]
          },
          "execution_count": 21,
          "metadata": {},
          "output_type": "execute_result"
        }
      ],
      "source": [
        "df.loc[69:69]"
      ]
    },
    {
      "cell_type": "markdown",
      "metadata": {
        "id": "xv1Y3rXrxWgP"
      },
      "source": [
        "Продемонстрируем вывод среза строк с 322 по 1437:\n",
        "\n",
        "\n"
      ]
    },
    {
      "cell_type": "code",
      "execution_count": 22,
      "metadata": {
        "colab": {
          "base_uri": "https://localhost:8080/",
          "height": 424
        },
        "id": "Pdm3dYL5xDWT",
        "outputId": "30ab9d45-7f47-4793-d7a7-0e8d92c6518d"
      },
      "outputs": [
        {
          "data": {
            "text/html": [
              "<div>\n",
              "<style scoped>\n",
              "    .dataframe tbody tr th:only-of-type {\n",
              "        vertical-align: middle;\n",
              "    }\n",
              "\n",
              "    .dataframe tbody tr th {\n",
              "        vertical-align: top;\n",
              "    }\n",
              "\n",
              "    .dataframe thead th {\n",
              "        text-align: right;\n",
              "    }\n",
              "</style>\n",
              "<table border=\"1\" class=\"dataframe\">\n",
              "  <thead>\n",
              "    <tr style=\"text-align: right;\">\n",
              "      <th></th>\n",
              "      <th>Make</th>\n",
              "      <th>Model</th>\n",
              "      <th>Year</th>\n",
              "      <th>Style</th>\n",
              "      <th>Distance</th>\n",
              "      <th>Engine_capacity(cm3)</th>\n",
              "      <th>Fuel_type</th>\n",
              "      <th>Transmission</th>\n",
              "      <th>Price(euro)</th>\n",
              "    </tr>\n",
              "  </thead>\n",
              "  <tbody>\n",
              "    <tr>\n",
              "      <th>322</th>\n",
              "      <td>Skoda</td>\n",
              "      <td>Octavia</td>\n",
              "      <td>2010</td>\n",
              "      <td>Universal</td>\n",
              "      <td>1.0</td>\n",
              "      <td>1400.0</td>\n",
              "      <td>Petrol</td>\n",
              "      <td>Manual</td>\n",
              "      <td>5350.0</td>\n",
              "    </tr>\n",
              "    <tr>\n",
              "      <th>323</th>\n",
              "      <td>Mercedes</td>\n",
              "      <td>E Class</td>\n",
              "      <td>2016</td>\n",
              "      <td>Sedan</td>\n",
              "      <td>161024.0</td>\n",
              "      <td>2200.0</td>\n",
              "      <td>Diesel</td>\n",
              "      <td>Automatic</td>\n",
              "      <td>26950.0</td>\n",
              "    </tr>\n",
              "    <tr>\n",
              "      <th>324</th>\n",
              "      <td>Honda</td>\n",
              "      <td>Civic</td>\n",
              "      <td>2006</td>\n",
              "      <td>Hatchback</td>\n",
              "      <td>195000.0</td>\n",
              "      <td>1400.0</td>\n",
              "      <td>Petrol</td>\n",
              "      <td>Manual</td>\n",
              "      <td>5400.0</td>\n",
              "    </tr>\n",
              "    <tr>\n",
              "      <th>325</th>\n",
              "      <td>Ford</td>\n",
              "      <td>Fusion</td>\n",
              "      <td>2015</td>\n",
              "      <td>Sedan</td>\n",
              "      <td>124000.0</td>\n",
              "      <td>2000.0</td>\n",
              "      <td>Plug-in Hybrid</td>\n",
              "      <td>Automatic</td>\n",
              "      <td>11499.0</td>\n",
              "    </tr>\n",
              "    <tr>\n",
              "      <th>326</th>\n",
              "      <td>Ford</td>\n",
              "      <td>Fusion</td>\n",
              "      <td>2003</td>\n",
              "      <td>Hatchback</td>\n",
              "      <td>330000.0</td>\n",
              "      <td>1400.0</td>\n",
              "      <td>Diesel</td>\n",
              "      <td>Automatic</td>\n",
              "      <td>4100.0</td>\n",
              "    </tr>\n",
              "    <tr>\n",
              "      <th>...</th>\n",
              "      <td>...</td>\n",
              "      <td>...</td>\n",
              "      <td>...</td>\n",
              "      <td>...</td>\n",
              "      <td>...</td>\n",
              "      <td>...</td>\n",
              "      <td>...</td>\n",
              "      <td>...</td>\n",
              "      <td>...</td>\n",
              "    </tr>\n",
              "    <tr>\n",
              "      <th>1433</th>\n",
              "      <td>Peugeot</td>\n",
              "      <td>208</td>\n",
              "      <td>2013</td>\n",
              "      <td>Hatchback</td>\n",
              "      <td>154000.0</td>\n",
              "      <td>1400.0</td>\n",
              "      <td>Diesel</td>\n",
              "      <td>Automatic</td>\n",
              "      <td>6999.0</td>\n",
              "    </tr>\n",
              "    <tr>\n",
              "      <th>1434</th>\n",
              "      <td>Infiniti</td>\n",
              "      <td>QX30</td>\n",
              "      <td>2017</td>\n",
              "      <td>SUV</td>\n",
              "      <td>91000.0</td>\n",
              "      <td>1500.0</td>\n",
              "      <td>Diesel</td>\n",
              "      <td>Automatic</td>\n",
              "      <td>15490.0</td>\n",
              "    </tr>\n",
              "    <tr>\n",
              "      <th>1435</th>\n",
              "      <td>Ford</td>\n",
              "      <td>Kuga</td>\n",
              "      <td>2016</td>\n",
              "      <td>SUV</td>\n",
              "      <td>102500.0</td>\n",
              "      <td>1500.0</td>\n",
              "      <td>Diesel</td>\n",
              "      <td>Manual</td>\n",
              "      <td>14490.0</td>\n",
              "    </tr>\n",
              "    <tr>\n",
              "      <th>1436</th>\n",
              "      <td>Ford</td>\n",
              "      <td>Kuga</td>\n",
              "      <td>2018</td>\n",
              "      <td>SUV</td>\n",
              "      <td>122100.0</td>\n",
              "      <td>1500.0</td>\n",
              "      <td>Diesel</td>\n",
              "      <td>Manual</td>\n",
              "      <td>14250.0</td>\n",
              "    </tr>\n",
              "    <tr>\n",
              "      <th>1437</th>\n",
              "      <td>BMW</td>\n",
              "      <td>3 Series</td>\n",
              "      <td>2016</td>\n",
              "      <td>Sedan</td>\n",
              "      <td>64000.0</td>\n",
              "      <td>2000.0</td>\n",
              "      <td>Petrol</td>\n",
              "      <td>Automatic</td>\n",
              "      <td>17500.0</td>\n",
              "    </tr>\n",
              "  </tbody>\n",
              "</table>\n",
              "<p>1116 rows × 9 columns</p>\n",
              "</div>"
            ],
            "text/plain": [
              "          Make     Model  Year      Style  Distance  Engine_capacity(cm3)  \\\n",
              "322      Skoda   Octavia  2010  Universal       1.0                1400.0   \n",
              "323   Mercedes   E Class  2016      Sedan  161024.0                2200.0   \n",
              "324      Honda     Civic  2006  Hatchback  195000.0                1400.0   \n",
              "325       Ford    Fusion  2015      Sedan  124000.0                2000.0   \n",
              "326       Ford    Fusion  2003  Hatchback  330000.0                1400.0   \n",
              "...        ...       ...   ...        ...       ...                   ...   \n",
              "1433   Peugeot       208  2013  Hatchback  154000.0                1400.0   \n",
              "1434  Infiniti      QX30  2017        SUV   91000.0                1500.0   \n",
              "1435      Ford      Kuga  2016        SUV  102500.0                1500.0   \n",
              "1436      Ford      Kuga  2018        SUV  122100.0                1500.0   \n",
              "1437       BMW  3 Series  2016      Sedan   64000.0                2000.0   \n",
              "\n",
              "           Fuel_type Transmission  Price(euro)  \n",
              "322           Petrol       Manual       5350.0  \n",
              "323           Diesel    Automatic      26950.0  \n",
              "324           Petrol       Manual       5400.0  \n",
              "325   Plug-in Hybrid    Automatic      11499.0  \n",
              "326           Diesel    Automatic       4100.0  \n",
              "...              ...          ...          ...  \n",
              "1433          Diesel    Automatic       6999.0  \n",
              "1434          Diesel    Automatic      15490.0  \n",
              "1435          Diesel       Manual      14490.0  \n",
              "1436          Diesel       Manual      14250.0  \n",
              "1437          Petrol    Automatic      17500.0  \n",
              "\n",
              "[1116 rows x 9 columns]"
            ]
          },
          "execution_count": 22,
          "metadata": {},
          "output_type": "execute_result"
        }
      ],
      "source": [
        "df.loc[322:1437]"
      ]
    },
    {
      "cell_type": "markdown",
      "metadata": {
        "id": "HCfqVUwlxv-p"
      },
      "source": [
        "В следующем примере выведем срез строк с 227 по 229, и срез столбцов от столбца Make до Fuel_type."
      ]
    },
    {
      "cell_type": "code",
      "execution_count": 23,
      "metadata": {
        "colab": {
          "base_uri": "https://localhost:8080/",
          "height": 143
        },
        "id": "BXlMcunSyrWt",
        "outputId": "f4f976d8-1b90-48a5-b4bd-0646a61e8889"
      },
      "outputs": [
        {
          "data": {
            "text/html": [
              "<div>\n",
              "<style scoped>\n",
              "    .dataframe tbody tr th:only-of-type {\n",
              "        vertical-align: middle;\n",
              "    }\n",
              "\n",
              "    .dataframe tbody tr th {\n",
              "        vertical-align: top;\n",
              "    }\n",
              "\n",
              "    .dataframe thead th {\n",
              "        text-align: right;\n",
              "    }\n",
              "</style>\n",
              "<table border=\"1\" class=\"dataframe\">\n",
              "  <thead>\n",
              "    <tr style=\"text-align: right;\">\n",
              "      <th></th>\n",
              "      <th>Make</th>\n",
              "      <th>Model</th>\n",
              "      <th>Year</th>\n",
              "      <th>Style</th>\n",
              "      <th>Distance</th>\n",
              "      <th>Engine_capacity(cm3)</th>\n",
              "      <th>Fuel_type</th>\n",
              "    </tr>\n",
              "  </thead>\n",
              "  <tbody>\n",
              "    <tr>\n",
              "      <th>227</th>\n",
              "      <td>Opel</td>\n",
              "      <td>Calibra</td>\n",
              "      <td>1992</td>\n",
              "      <td>Coupe</td>\n",
              "      <td>400000.0</td>\n",
              "      <td>2000.0</td>\n",
              "      <td>Metan/Propan</td>\n",
              "    </tr>\n",
              "    <tr>\n",
              "      <th>228</th>\n",
              "      <td>Renault</td>\n",
              "      <td>Kadjar</td>\n",
              "      <td>2016</td>\n",
              "      <td>Crossover</td>\n",
              "      <td>150425.0</td>\n",
              "      <td>1500.0</td>\n",
              "      <td>Diesel</td>\n",
              "    </tr>\n",
              "    <tr>\n",
              "      <th>229</th>\n",
              "      <td>Ford</td>\n",
              "      <td>Fusion</td>\n",
              "      <td>2018</td>\n",
              "      <td>Sedan</td>\n",
              "      <td>105000.0</td>\n",
              "      <td>2000.0</td>\n",
              "      <td>Hybrid</td>\n",
              "    </tr>\n",
              "  </tbody>\n",
              "</table>\n",
              "</div>"
            ],
            "text/plain": [
              "        Make    Model  Year      Style  Distance  Engine_capacity(cm3)  \\\n",
              "227     Opel  Calibra  1992      Coupe  400000.0                2000.0   \n",
              "228  Renault   Kadjar  2016  Crossover  150425.0                1500.0   \n",
              "229     Ford   Fusion  2018      Sedan  105000.0                2000.0   \n",
              "\n",
              "        Fuel_type  \n",
              "227  Metan/Propan  \n",
              "228        Diesel  \n",
              "229        Hybrid  "
            ]
          },
          "execution_count": 23,
          "metadata": {},
          "output_type": "execute_result"
        }
      ],
      "source": [
        "df.loc[227:229,'Make':'Fuel_type']"
      ]
    },
    {
      "cell_type": "markdown",
      "metadata": {
        "id": "jtX-Kh1k3MkJ"
      },
      "source": [
        "Логическое Индексирование\n",
        "--------"
      ]
    },
    {
      "cell_type": "markdown",
      "metadata": {
        "id": "NL72Zeuld_lI"
      },
      "source": [
        "Логическое индексирование требует поиска истинных значений для каждой строки. Если вы ищете df['column'] == 'XY', создается True / False.\n",
        "\n",
        "\n",
        "суть в том что мы у таблицы берем колонку и проверяем чтобы значение во всехх строках выбранной колоннки равнялось выбранному значению"
      ]
    },
    {
      "cell_type": "code",
      "execution_count": 24,
      "metadata": {
        "colab": {
          "base_uri": "https://localhost:8080/",
          "height": 424
        },
        "id": "mSo58mmN3XT_",
        "outputId": "61e5716d-af86-480d-baef-0320edfe252e"
      },
      "outputs": [
        {
          "data": {
            "text/html": [
              "<div>\n",
              "<style scoped>\n",
              "    .dataframe tbody tr th:only-of-type {\n",
              "        vertical-align: middle;\n",
              "    }\n",
              "\n",
              "    .dataframe tbody tr th {\n",
              "        vertical-align: top;\n",
              "    }\n",
              "\n",
              "    .dataframe thead th {\n",
              "        text-align: right;\n",
              "    }\n",
              "</style>\n",
              "<table border=\"1\" class=\"dataframe\">\n",
              "  <thead>\n",
              "    <tr style=\"text-align: right;\">\n",
              "      <th></th>\n",
              "      <th>Make</th>\n",
              "      <th>Model</th>\n",
              "      <th>Year</th>\n",
              "      <th>Style</th>\n",
              "      <th>Distance</th>\n",
              "      <th>Engine_capacity(cm3)</th>\n",
              "      <th>Fuel_type</th>\n",
              "      <th>Transmission</th>\n",
              "      <th>Price(euro)</th>\n",
              "    </tr>\n",
              "  </thead>\n",
              "  <tbody>\n",
              "    <tr>\n",
              "      <th>1</th>\n",
              "      <td>Renault</td>\n",
              "      <td>Grand Scenic</td>\n",
              "      <td>2014</td>\n",
              "      <td>Universal</td>\n",
              "      <td>135000.0</td>\n",
              "      <td>1500.0</td>\n",
              "      <td>Diesel</td>\n",
              "      <td>Manual</td>\n",
              "      <td>8550.0</td>\n",
              "    </tr>\n",
              "    <tr>\n",
              "      <th>2</th>\n",
              "      <td>Volkswagen</td>\n",
              "      <td>Golf</td>\n",
              "      <td>1998</td>\n",
              "      <td>Hatchback</td>\n",
              "      <td>1.0</td>\n",
              "      <td>1400.0</td>\n",
              "      <td>Petrol</td>\n",
              "      <td>Manual</td>\n",
              "      <td>2200.0</td>\n",
              "    </tr>\n",
              "    <tr>\n",
              "      <th>3</th>\n",
              "      <td>Renault</td>\n",
              "      <td>Laguna</td>\n",
              "      <td>2012</td>\n",
              "      <td>Universal</td>\n",
              "      <td>110000.0</td>\n",
              "      <td>1500.0</td>\n",
              "      <td>Diesel</td>\n",
              "      <td>Manual</td>\n",
              "      <td>6550.0</td>\n",
              "    </tr>\n",
              "    <tr>\n",
              "      <th>4</th>\n",
              "      <td>Opel</td>\n",
              "      <td>Astra</td>\n",
              "      <td>2006</td>\n",
              "      <td>Universal</td>\n",
              "      <td>200000.0</td>\n",
              "      <td>1600.0</td>\n",
              "      <td>Metan/Propan</td>\n",
              "      <td>Manual</td>\n",
              "      <td>4100.0</td>\n",
              "    </tr>\n",
              "    <tr>\n",
              "      <th>5</th>\n",
              "      <td>Mercedes</td>\n",
              "      <td>Vito</td>\n",
              "      <td>2000</td>\n",
              "      <td>Microvan</td>\n",
              "      <td>300000.0</td>\n",
              "      <td>2200.0</td>\n",
              "      <td>Diesel</td>\n",
              "      <td>Manual</td>\n",
              "      <td>3490.0</td>\n",
              "    </tr>\n",
              "    <tr>\n",
              "      <th>...</th>\n",
              "      <td>...</td>\n",
              "      <td>...</td>\n",
              "      <td>...</td>\n",
              "      <td>...</td>\n",
              "      <td>...</td>\n",
              "      <td>...</td>\n",
              "      <td>...</td>\n",
              "      <td>...</td>\n",
              "      <td>...</td>\n",
              "    </tr>\n",
              "    <tr>\n",
              "      <th>37259</th>\n",
              "      <td>Land Rover</td>\n",
              "      <td>Freelander</td>\n",
              "      <td>2002</td>\n",
              "      <td>Crossover</td>\n",
              "      <td>225000.0</td>\n",
              "      <td>1800.0</td>\n",
              "      <td>Metan/Propan</td>\n",
              "      <td>Manual</td>\n",
              "      <td>4400.0</td>\n",
              "    </tr>\n",
              "    <tr>\n",
              "      <th>37260</th>\n",
              "      <td>Dacia</td>\n",
              "      <td>Logan Mcv</td>\n",
              "      <td>2015</td>\n",
              "      <td>Universal</td>\n",
              "      <td>89000.0</td>\n",
              "      <td>1500.0</td>\n",
              "      <td>Diesel</td>\n",
              "      <td>Manual</td>\n",
              "      <td>7000.0</td>\n",
              "    </tr>\n",
              "    <tr>\n",
              "      <th>37261</th>\n",
              "      <td>Renault</td>\n",
              "      <td>Modus</td>\n",
              "      <td>2009</td>\n",
              "      <td>Hatchback</td>\n",
              "      <td>225.0</td>\n",
              "      <td>1500.0</td>\n",
              "      <td>Diesel</td>\n",
              "      <td>Manual</td>\n",
              "      <td>4500.0</td>\n",
              "    </tr>\n",
              "    <tr>\n",
              "      <th>37262</th>\n",
              "      <td>Mazda</td>\n",
              "      <td>6</td>\n",
              "      <td>2006</td>\n",
              "      <td>Combi</td>\n",
              "      <td>370000.0</td>\n",
              "      <td>2000.0</td>\n",
              "      <td>Diesel</td>\n",
              "      <td>Manual</td>\n",
              "      <td>4000.0</td>\n",
              "    </tr>\n",
              "    <tr>\n",
              "      <th>37263</th>\n",
              "      <td>Renault</td>\n",
              "      <td>Grand Scenic</td>\n",
              "      <td>2006</td>\n",
              "      <td>Minivan</td>\n",
              "      <td>300000.0</td>\n",
              "      <td>1500.0</td>\n",
              "      <td>Diesel</td>\n",
              "      <td>Manual</td>\n",
              "      <td>4000.0</td>\n",
              "    </tr>\n",
              "  </tbody>\n",
              "</table>\n",
              "<p>20723 rows × 9 columns</p>\n",
              "</div>"
            ],
            "text/plain": [
              "             Make         Model  Year      Style  Distance  \\\n",
              "1         Renault  Grand Scenic  2014  Universal  135000.0   \n",
              "2      Volkswagen          Golf  1998  Hatchback       1.0   \n",
              "3         Renault        Laguna  2012  Universal  110000.0   \n",
              "4            Opel         Astra  2006  Universal  200000.0   \n",
              "5        Mercedes          Vito  2000   Microvan  300000.0   \n",
              "...           ...           ...   ...        ...       ...   \n",
              "37259  Land Rover    Freelander  2002  Crossover  225000.0   \n",
              "37260       Dacia     Logan Mcv  2015  Universal   89000.0   \n",
              "37261     Renault         Modus  2009  Hatchback     225.0   \n",
              "37262       Mazda             6  2006      Combi  370000.0   \n",
              "37263     Renault  Grand Scenic  2006    Minivan  300000.0   \n",
              "\n",
              "       Engine_capacity(cm3)     Fuel_type Transmission  Price(euro)  \n",
              "1                    1500.0        Diesel       Manual       8550.0  \n",
              "2                    1400.0        Petrol       Manual       2200.0  \n",
              "3                    1500.0        Diesel       Manual       6550.0  \n",
              "4                    1600.0  Metan/Propan       Manual       4100.0  \n",
              "5                    2200.0        Diesel       Manual       3490.0  \n",
              "...                     ...           ...          ...          ...  \n",
              "37259                1800.0  Metan/Propan       Manual       4400.0  \n",
              "37260                1500.0        Diesel       Manual       7000.0  \n",
              "37261                1500.0        Diesel       Manual       4500.0  \n",
              "37262                2000.0        Diesel       Manual       4000.0  \n",
              "37263                1500.0        Diesel       Manual       4000.0  \n",
              "\n",
              "[20723 rows x 9 columns]"
            ]
          },
          "execution_count": 24,
          "metadata": {},
          "output_type": "execute_result"
        }
      ],
      "source": [
        "df[df['Transmission']=='Manual']"
      ]
    },
    {
      "cell_type": "markdown",
      "metadata": {
        "id": "38ZDGJdevzbu"
      },
      "source": [
        "# Сортировка DataFrame\n",
        "\n"
      ]
    },
    {
      "cell_type": "markdown",
      "metadata": {
        "id": "WhmSgMzY3Hd5"
      },
      "source": [
        "Метод .sort_values()\n",
        "---------\n",
        "Метод .sort_values(by) применяется для сортировки датафрейма.\n",
        "В примере ниже мы сортируем таблицу по возрастанию по стоимости, выводим пять строк с конца"
      ]
    },
    {
      "cell_type": "markdown",
      "metadata": {
        "id": "r4X9ZDwTe79L"
      },
      "source": [
        "в данной строчку мы сначала сортируем по цене( параметр отвечающий за сортировку по возрастанию по умолчанию true) и далее берем самые дорогие билеты с конца метод tail"
      ]
    },
    {
      "cell_type": "code",
      "execution_count": 25,
      "metadata": {
        "colab": {
          "base_uri": "https://localhost:8080/",
          "height": 206
        },
        "id": "OopAUEEauZD6",
        "outputId": "9ac35302-21b7-435e-ebf1-b1bd8ac156ae"
      },
      "outputs": [
        {
          "data": {
            "text/html": [
              "<div>\n",
              "<style scoped>\n",
              "    .dataframe tbody tr th:only-of-type {\n",
              "        vertical-align: middle;\n",
              "    }\n",
              "\n",
              "    .dataframe tbody tr th {\n",
              "        vertical-align: top;\n",
              "    }\n",
              "\n",
              "    .dataframe thead th {\n",
              "        text-align: right;\n",
              "    }\n",
              "</style>\n",
              "<table border=\"1\" class=\"dataframe\">\n",
              "  <thead>\n",
              "    <tr style=\"text-align: right;\">\n",
              "      <th></th>\n",
              "      <th>Make</th>\n",
              "      <th>Model</th>\n",
              "      <th>Year</th>\n",
              "      <th>Style</th>\n",
              "      <th>Distance</th>\n",
              "      <th>Engine_capacity(cm3)</th>\n",
              "      <th>Fuel_type</th>\n",
              "      <th>Transmission</th>\n",
              "      <th>Price(euro)</th>\n",
              "    </tr>\n",
              "  </thead>\n",
              "  <tbody>\n",
              "    <tr>\n",
              "      <th>13131</th>\n",
              "      <td>Toyota</td>\n",
              "      <td>Land Cruiser Prado</td>\n",
              "      <td>2012</td>\n",
              "      <td>SUV</td>\n",
              "      <td>10005.0</td>\n",
              "      <td>3000.0</td>\n",
              "      <td>Diesel</td>\n",
              "      <td>Automatic</td>\n",
              "      <td>200000.0</td>\n",
              "    </tr>\n",
              "    <tr>\n",
              "      <th>14834</th>\n",
              "      <td>Volkswagen</td>\n",
              "      <td>Caddy</td>\n",
              "      <td>2015</td>\n",
              "      <td>Combi</td>\n",
              "      <td>158260.0</td>\n",
              "      <td>1395.0</td>\n",
              "      <td>Metan/Propan</td>\n",
              "      <td>Manual</td>\n",
              "      <td>200000.0</td>\n",
              "    </tr>\n",
              "    <tr>\n",
              "      <th>29132</th>\n",
              "      <td>Mercedes</td>\n",
              "      <td>G Class</td>\n",
              "      <td>2020</td>\n",
              "      <td>SUV</td>\n",
              "      <td>3000.0</td>\n",
              "      <td>3982.0</td>\n",
              "      <td>Petrol</td>\n",
              "      <td>Automatic</td>\n",
              "      <td>215000.0</td>\n",
              "    </tr>\n",
              "    <tr>\n",
              "      <th>17849</th>\n",
              "      <td>KIA</td>\n",
              "      <td>Sportage</td>\n",
              "      <td>2018</td>\n",
              "      <td>Crossover</td>\n",
              "      <td>46000.0</td>\n",
              "      <td>1600.0</td>\n",
              "      <td>Petrol</td>\n",
              "      <td>Automatic</td>\n",
              "      <td>490000.0</td>\n",
              "    </tr>\n",
              "    <tr>\n",
              "      <th>33677</th>\n",
              "      <td>Brilliance</td>\n",
              "      <td>BS3</td>\n",
              "      <td>2009</td>\n",
              "      <td>Sedan</td>\n",
              "      <td>57000.0</td>\n",
              "      <td>1598.0</td>\n",
              "      <td>Petrol</td>\n",
              "      <td>Manual</td>\n",
              "      <td>10000000.0</td>\n",
              "    </tr>\n",
              "  </tbody>\n",
              "</table>\n",
              "</div>"
            ],
            "text/plain": [
              "             Make               Model  Year      Style  Distance  \\\n",
              "13131      Toyota  Land Cruiser Prado  2012        SUV   10005.0   \n",
              "14834  Volkswagen               Caddy  2015      Combi  158260.0   \n",
              "29132    Mercedes             G Class  2020        SUV    3000.0   \n",
              "17849         KIA            Sportage  2018  Crossover   46000.0   \n",
              "33677  Brilliance                 BS3  2009      Sedan   57000.0   \n",
              "\n",
              "       Engine_capacity(cm3)     Fuel_type Transmission  Price(euro)  \n",
              "13131                3000.0        Diesel    Automatic     200000.0  \n",
              "14834                1395.0  Metan/Propan       Manual     200000.0  \n",
              "29132                3982.0        Petrol    Automatic     215000.0  \n",
              "17849                1600.0        Petrol    Automatic     490000.0  \n",
              "33677                1598.0        Petrol       Manual   10000000.0  "
            ]
          },
          "execution_count": 25,
          "metadata": {},
          "output_type": "execute_result"
        }
      ],
      "source": [
        "df.sort_values(by = 'Price(euro)').tail(5)"
      ]
    },
    {
      "cell_type": "markdown",
      "metadata": {
        "id": "yBuzO0obfd87"
      },
      "source": [
        "Метод .sort_values(by, ascending= False) сортирует необходимые значения по убыванию. Например, отсортируем таблицу по годам по убыванию. Выведем первые пять строк. \n",
        "Теперь мы сортируем по году выпуска и по убыванию данного параметра, а так же берем пять верхних значений отсортированной таблицы"
      ]
    },
    {
      "cell_type": "code",
      "execution_count": 26,
      "metadata": {
        "colab": {
          "base_uri": "https://localhost:8080/",
          "height": 424
        },
        "id": "cv33vgtfu_MH",
        "outputId": "0a2d0e11-502b-4b73-bc2a-f6bb434ab144"
      },
      "outputs": [
        {
          "data": {
            "text/html": [
              "<div>\n",
              "<style scoped>\n",
              "    .dataframe tbody tr th:only-of-type {\n",
              "        vertical-align: middle;\n",
              "    }\n",
              "\n",
              "    .dataframe tbody tr th {\n",
              "        vertical-align: top;\n",
              "    }\n",
              "\n",
              "    .dataframe thead th {\n",
              "        text-align: right;\n",
              "    }\n",
              "</style>\n",
              "<table border=\"1\" class=\"dataframe\">\n",
              "  <thead>\n",
              "    <tr style=\"text-align: right;\">\n",
              "      <th></th>\n",
              "      <th>Make</th>\n",
              "      <th>Model</th>\n",
              "      <th>Year</th>\n",
              "      <th>Style</th>\n",
              "      <th>Distance</th>\n",
              "      <th>Engine_capacity(cm3)</th>\n",
              "      <th>Fuel_type</th>\n",
              "      <th>Transmission</th>\n",
              "      <th>Price(euro)</th>\n",
              "    </tr>\n",
              "  </thead>\n",
              "  <tbody>\n",
              "    <tr>\n",
              "      <th>29164</th>\n",
              "      <td>Audi</td>\n",
              "      <td>A5</td>\n",
              "      <td>2021</td>\n",
              "      <td>Sedan</td>\n",
              "      <td>661.0</td>\n",
              "      <td>2000.0</td>\n",
              "      <td>Petrol</td>\n",
              "      <td>Automatic</td>\n",
              "      <td>32200.0</td>\n",
              "    </tr>\n",
              "    <tr>\n",
              "      <th>32583</th>\n",
              "      <td>Mercedes</td>\n",
              "      <td>GLS Klass</td>\n",
              "      <td>2021</td>\n",
              "      <td>SUV</td>\n",
              "      <td>0.0</td>\n",
              "      <td>3000.0</td>\n",
              "      <td>Diesel</td>\n",
              "      <td>Automatic</td>\n",
              "      <td>107528.0</td>\n",
              "    </tr>\n",
              "    <tr>\n",
              "      <th>15611</th>\n",
              "      <td>Volkswagen</td>\n",
              "      <td>Polo</td>\n",
              "      <td>2021</td>\n",
              "      <td>Universal</td>\n",
              "      <td>280000.0</td>\n",
              "      <td>1400.0</td>\n",
              "      <td>Petrol</td>\n",
              "      <td>Manual</td>\n",
              "      <td>1900.0</td>\n",
              "    </tr>\n",
              "    <tr>\n",
              "      <th>6044</th>\n",
              "      <td>Skoda</td>\n",
              "      <td>Superb</td>\n",
              "      <td>2021</td>\n",
              "      <td>Sedan</td>\n",
              "      <td>0.0</td>\n",
              "      <td>1500.0</td>\n",
              "      <td>Petrol</td>\n",
              "      <td>Automatic</td>\n",
              "      <td>30000.0</td>\n",
              "    </tr>\n",
              "    <tr>\n",
              "      <th>11840</th>\n",
              "      <td>Toyota</td>\n",
              "      <td>Corolla</td>\n",
              "      <td>2021</td>\n",
              "      <td>Universal</td>\n",
              "      <td>288.0</td>\n",
              "      <td>1987.0</td>\n",
              "      <td>Hybrid</td>\n",
              "      <td>Automatic</td>\n",
              "      <td>23000.0</td>\n",
              "    </tr>\n",
              "    <tr>\n",
              "      <th>...</th>\n",
              "      <td>...</td>\n",
              "      <td>...</td>\n",
              "      <td>...</td>\n",
              "      <td>...</td>\n",
              "      <td>...</td>\n",
              "      <td>...</td>\n",
              "      <td>...</td>\n",
              "      <td>...</td>\n",
              "      <td>...</td>\n",
              "    </tr>\n",
              "    <tr>\n",
              "      <th>12922</th>\n",
              "      <td>Honda</td>\n",
              "      <td>Accord</td>\n",
              "      <td>2018</td>\n",
              "      <td>Sedan</td>\n",
              "      <td>16303.0</td>\n",
              "      <td>1500.0</td>\n",
              "      <td>Petrol</td>\n",
              "      <td>Automatic</td>\n",
              "      <td>18999.0</td>\n",
              "    </tr>\n",
              "    <tr>\n",
              "      <th>3680</th>\n",
              "      <td>Nissan</td>\n",
              "      <td>Murano</td>\n",
              "      <td>2018</td>\n",
              "      <td>SUV</td>\n",
              "      <td>90.0</td>\n",
              "      <td>2500.0</td>\n",
              "      <td>Hybrid</td>\n",
              "      <td>Automatic</td>\n",
              "      <td>28500.0</td>\n",
              "    </tr>\n",
              "    <tr>\n",
              "      <th>27102</th>\n",
              "      <td>Toyota</td>\n",
              "      <td>C-HR</td>\n",
              "      <td>2018</td>\n",
              "      <td>Crossover</td>\n",
              "      <td>117000.0</td>\n",
              "      <td>1800.0</td>\n",
              "      <td>Hybrid</td>\n",
              "      <td>Automatic</td>\n",
              "      <td>18990.0</td>\n",
              "    </tr>\n",
              "    <tr>\n",
              "      <th>11746</th>\n",
              "      <td>Audi</td>\n",
              "      <td>A3</td>\n",
              "      <td>2018</td>\n",
              "      <td>Sedan</td>\n",
              "      <td>7000.0</td>\n",
              "      <td>2000.0</td>\n",
              "      <td>Petrol</td>\n",
              "      <td>Automatic</td>\n",
              "      <td>16000.0</td>\n",
              "    </tr>\n",
              "    <tr>\n",
              "      <th>3673</th>\n",
              "      <td>Volvo</td>\n",
              "      <td>XC60</td>\n",
              "      <td>2018</td>\n",
              "      <td>Crossover</td>\n",
              "      <td>133922.0</td>\n",
              "      <td>2000.0</td>\n",
              "      <td>Diesel</td>\n",
              "      <td>Automatic</td>\n",
              "      <td>32699.0</td>\n",
              "    </tr>\n",
              "  </tbody>\n",
              "</table>\n",
              "<p>1000 rows × 9 columns</p>\n",
              "</div>"
            ],
            "text/plain": [
              "             Make      Model  Year      Style  Distance  Engine_capacity(cm3)  \\\n",
              "29164        Audi         A5  2021      Sedan     661.0                2000.0   \n",
              "32583    Mercedes  GLS Klass  2021        SUV       0.0                3000.0   \n",
              "15611  Volkswagen       Polo  2021  Universal  280000.0                1400.0   \n",
              "6044        Skoda     Superb  2021      Sedan       0.0                1500.0   \n",
              "11840      Toyota    Corolla  2021  Universal     288.0                1987.0   \n",
              "...           ...        ...   ...        ...       ...                   ...   \n",
              "12922       Honda     Accord  2018      Sedan   16303.0                1500.0   \n",
              "3680       Nissan     Murano  2018        SUV      90.0                2500.0   \n",
              "27102      Toyota       C-HR  2018  Crossover  117000.0                1800.0   \n",
              "11746        Audi         A3  2018      Sedan    7000.0                2000.0   \n",
              "3673        Volvo       XC60  2018  Crossover  133922.0                2000.0   \n",
              "\n",
              "      Fuel_type Transmission  Price(euro)  \n",
              "29164    Petrol    Automatic      32200.0  \n",
              "32583    Diesel    Automatic     107528.0  \n",
              "15611    Petrol       Manual       1900.0  \n",
              "6044     Petrol    Automatic      30000.0  \n",
              "11840    Hybrid    Automatic      23000.0  \n",
              "...         ...          ...          ...  \n",
              "12922    Petrol    Automatic      18999.0  \n",
              "3680     Hybrid    Automatic      28500.0  \n",
              "27102    Hybrid    Automatic      18990.0  \n",
              "11746    Petrol    Automatic      16000.0  \n",
              "3673     Diesel    Automatic      32699.0  \n",
              "\n",
              "[1000 rows x 9 columns]"
            ]
          },
          "execution_count": 26,
          "metadata": {},
          "output_type": "execute_result"
        }
      ],
      "source": [
        "df.sort_values(by = 'Year', ascending= False).head(1000)"
      ]
    },
    {
      "cell_type": "markdown",
      "metadata": {
        "id": "R6oU8RpZxT66"
      },
      "source": [
        "# Сохранение DataFrame в файл\n"
      ]
    },
    {
      "cell_type": "markdown",
      "metadata": {
        "id": "dEjh_cWmghq-"
      },
      "source": [
        "Метод .to_csv(path, index)\n",
        "-------\n",
        "Мы часто сталкиваемся с ситуациями, когда нам нужно сохранить огромные данные, созданные в результате списания или анализа, в легкой и читаемой, а не общедоступной форме. \n",
        "\n",
        "Функция pandas.to_csv () позволяет нам сохранить фрейм данных в виде CSV-файла. Нам нужно передать имя файла в качестве параметра функции."
      ]
    },
    {
      "cell_type": "markdown",
      "metadata": {
        "id": "FGKZZ6-G3mBV"
      },
      "source": [
        "Метод .to_csv(path, index)  это метод библиотеки пандас необходимый для сохранения обработанных данных в формате csv"
      ]
    },
    {
      "cell_type": "code",
      "execution_count": 24,
      "metadata": {
        "id": "X29iul9mxdN_"
      },
      "outputs": [],
      "source": [
        "df.to_csv('cars_moldova_no_dup.csv',index=False)"
      ]
    },
    {
      "cell_type": "markdown",
      "metadata": {
        "id": "K_FyGhmewApp"
      },
      "source": [
        "# Контрольные вопросы"
      ]
    },
    {
      "cell_type": "markdown",
      "metadata": {
        "id": "vxXZ9hHlvrTR"
      },
      "source": [
        "Вопрос: \n",
        "<b> Назовите тип данных категориальных столбцов в Pandas\n"
      ]
    },
    {
      "cell_type": "markdown",
      "metadata": {},
      "source": [
        "Make, Model, Style, Fuel_type, Transmission"
      ]
    },
    {
      "cell_type": "markdown",
      "metadata": {
        "id": "pfVcyFL0vrTS"
      },
      "source": [
        "Вопрос: \n",
        "<b>Назовите целевой столбец для задачи регрессии"
      ]
    },
    {
      "cell_type": "markdown",
      "metadata": {
        "id": "6sNVC1gohKBk"
      },
      "source": [
        "Price(euro) "
      ]
    },
    {
      "cell_type": "markdown",
      "metadata": {
        "id": "A-VFfeKNvrTS"
      },
      "source": [
        "Вопрос: \n",
        "<b>Назовите целевой столбец для задачи классификации\n"
      ]
    },
    {
      "cell_type": "markdown",
      "metadata": {
        "id": "IeOsKAODhSXh"
      },
      "source": [
        "Transmission"
      ]
    },
    {
      "cell_type": "markdown",
      "metadata": {
        "id": "TfdrCY1p7Gnv"
      },
      "source": [
        "Вопрос: \n",
        "<b>Возьмите датафрейм после удаления дубликатов. Выберете из полного датафрейма строки с индекса 69 по 322. Отсортируйте полученный датафрейм по колонке  'Distance' по убыванию. Какое значение колонки  'Style' у полученного датафрейма во второй строке сверху "
      ]
    },
    {
      "cell_type": "code",
      "execution_count": 27,
      "metadata": {
        "colab": {
          "base_uri": "https://localhost:8080/",
          "height": 36
        },
        "id": "rBAfHgbciRGG",
        "outputId": "1ea9413c-07df-4de1-8d20-3a588d6b3ce1"
      },
      "outputs": [
        {
          "data": {
            "text/plain": [
              "'Sedan'"
            ]
          },
          "execution_count": 27,
          "metadata": {},
          "output_type": "execute_result"
        }
      ],
      "source": [
        "x = df.loc[69:322,:]\n",
        "y = x.sort_values(by = 'Distance', ascending= False)\n",
        "y = y.reset_index(drop=True)\n",
        "y.loc[2,'Style']"
      ]
    },
    {
      "cell_type": "markdown",
      "metadata": {
        "id": "8loH_myO7WVS"
      },
      "source": [
        "Вопрос:\n",
        "<b> Укажите правильную размерность исходного набора данных"
      ]
    },
    {
      "cell_type": "code",
      "execution_count": 29,
      "metadata": {},
      "outputs": [
        {
          "name": "stdout",
          "output_type": "stream",
          "text": [
            "строк: 37264 столбцов: 9\n"
          ]
        }
      ],
      "source": [
        "f = df.shape\n",
        "print(\"строк:\", f[0],\"столбцов:\", f[1]) "
      ]
    }
  ],
  "metadata": {
    "colab": {
      "provenance": []
    },
    "kernelspec": {
      "display_name": "Python 3.10.3 64-bit",
      "language": "python",
      "name": "python3"
    },
    "language_info": {
      "codemirror_mode": {
        "name": "ipython",
        "version": 3
      },
      "file_extension": ".py",
      "mimetype": "text/x-python",
      "name": "python",
      "nbconvert_exporter": "python",
      "pygments_lexer": "ipython3",
      "version": "3.10.3"
    },
    "toc": {
      "base_numbering": 1,
      "nav_menu": {},
      "number_sections": true,
      "sideBar": true,
      "skip_h1_title": false,
      "title_cell": "Table of Contents",
      "title_sidebar": "Contents",
      "toc_cell": false,
      "toc_position": {
        "height": "calc(100% - 180px)",
        "left": "10px",
        "top": "150px",
        "width": "165px"
      },
      "toc_section_display": true,
      "toc_window_display": true
    },
    "vscode": {
      "interpreter": {
        "hash": "369f2c481f4da34e4445cda3fffd2e751bd1c4d706f27375911949ba6bb62e1c"
      }
    }
  },
  "nbformat": 4,
  "nbformat_minor": 0
}
